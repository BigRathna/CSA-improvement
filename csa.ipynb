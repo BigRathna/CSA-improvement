{
    "cells": [
        {
            "cell_type": "code",
            "execution_count": 1,
            "metadata": {},
            "outputs": [],
            "source": [
                "import arff\n",
                "import numpy as np\n",
                "from sklearn.model_selection import train_test_split\n",
                "from sklearn.preprocessing import StandardScaler"
            ]
        },
        {
            "cell_type": "code",
            "execution_count": 2,
            "metadata": {},
            "outputs": [],
            "source": [
                "# Load the ARFF file\n",
                "file_path = 'HIGGS.arff'\n",
                "with open(file_path, 'r') as f:\n",
                "    dataset = arff.load(f)\n"
            ]
        },
        {
            "cell_type": "code",
            "execution_count": 3,
            "metadata": {},
            "outputs": [],
            "source": [
                "# Extract data and labels\n",
                "data = np.array(dataset['data'])\n",
                "data = data[~np.isnan(data.astype('float')).any(axis=1)] # Remove rows with NaN values\n",
                "\n",
                "X = data[:, 1:]\n",
                "y = data[:, 0]"
            ]
        },
        {
            "cell_type": "code",
            "execution_count": 4,
            "metadata": {},
            "outputs": [],
            "source": [
                "# Split the dataset\n",
                "X_train, X_test, y_train, y_test = train_test_split(X, y, test_size=0.2, random_state=42)"
            ]
        },
        {
            "cell_type": "code",
            "execution_count": 5,
            "metadata": {},
            "outputs": [],
            "source": [
                "# Scale the features\n",
                "scaler = StandardScaler()\n",
                "scaler.fit(X_train)\n",
                "X_train = scaler.transform(X_train)\n",
                "X_test = scaler.transform(X_test)"
            ]
        },
        {
            "cell_type": "code",
            "execution_count": 6,
            "metadata": {},
            "outputs": [
                {
                    "name": "stdout",
                    "output_type": "stream",
                    "text": [
                        "(19610, 28)\n",
                        "False\n"
                    ]
                }
            ],
            "source": [
                "print(X_test.shape)\n",
                "print(np.isnan(X_test).any())"
            ]
        },
        {
            "cell_type": "code",
            "execution_count": 7,
            "metadata": {},
            "outputs": [],
            "source": [
                "import numpy as np"
            ]
        },
        {
            "cell_type": "code",
            "execution_count": 8,
            "metadata": {},
            "outputs": [],
            "source": [
                "from sklearn.metrics import accuracy_score\n",
                "from sklearn.linear_model import LogisticRegression\n",
                "\n",
                "def objective_function(X, y, solution):\n",
                "    # Extract the weights from the solution\n",
                "    weights = solution[:-1]\n",
                "    bias = solution[-1]\n",
                "\n",
                "    # Fit the logistic regression model\n",
                "    clf = LogisticRegression(C=1e-4, solver='lbfgs', max_iter=1000)\n",
                "    clf.coef_ = weights.reshape(1, -1)\n",
                "    clf.intercept_ = np.array([bias])\n",
                "    clf.fit(X, y)\n",
                "\n",
                "    # Compute the predicted probabilities\n",
                "    y_pred_proba = clf.predict_proba(X)[:, 1]\n",
                "\n",
                "    # Compute the accuracy score\n",
                "    y_pred = (y_pred_proba > 0.5).astype(int).astype(str)\n",
                "    accuracy = accuracy_score(y, y_pred)\n",
                "\n",
                "    # Return the negative accuracy to maximize the objective function\n",
                "    return -accuracy\n"
            ]
        },
        {
            "cell_type": "code",
            "execution_count": 11,
            "metadata": {},
            "outputs": [],
            "source": [
                "\n",
                "def crow_search_algorithm(X, y, n_crows=20, n_iterations=50, fl=2, ap=0.1):\n",
                "\n",
                "    # Initialize the crow positions and memory\n",
                "    n_features = X.shape[1]\n",
                "    crows_pos = np.random.uniform(-1, 1, (n_crows, n_features))\n",
                "    memory = np.copy(crows_pos)\n",
                "\n",
                "    # Evaluate the initial crow positions\n",
                "    fitness = np.array([objective_function(X, y, crow) for crow in crows_pos])\n",
                "    memory_fitness = np.copy(fitness)\n",
                "\n",
                "    for iteration in range(n_iterations):\n",
                "        print('Iteration {}/{}'.format(iteration + 1, n_iterations))\n",
                "        # Calculate the center position of the crows\n",
                "        center = np.mean(memory, axis=0)\n",
                "\n",
                "        for i, crow in enumerate(crows_pos):\n",
                "\n",
                "            # Generate a random crow index different from the current one\n",
                "            random_crow_idx = i\n",
                "            while random_crow_idx == i:\n",
                "                random_crow_idx = np.random.randint(0, n_crows)\n",
                "\n",
                "            # Calculate the new position of the crow\n",
                "            if np.random.uniform(0, 1) < ap:\n",
                "                new_pos = crow + fl * (memory[random_crow_idx] - crow)\n",
                "            else:\n",
                "                new_pos = crow + np.random.uniform(-1, 1) * (center - crow)\n",
                "\n",
                "            # Evaluate the new position\n",
                "            new_fitness = objective_function(X, y, new_pos)\n",
                "\n",
                "            # Update the crow position and memory if necessary\n",
                "            if new_fitness < fitness[i]:\n",
                "                crows_pos[i] = new_pos\n",
                "                fitness[i] = new_fitness\n",
                "\n",
                "                if new_fitness < memory_fitness[i]:\n",
                "                    memory[i] = new_pos\n",
                "                    memory_fitness[i] = new_fitness\n",
                "\n",
                "    # Return the best solution found\n",
                "    best_solution_idx = np.argmin(memory_fitness)\n",
                "    return memory[best_solution_idx]\n",
                "\n"
            ]
        },
        {
            "cell_type": "code",
            "execution_count": 12,
            "metadata": {},
            "outputs": [
                {
                    "name": "stdout",
                    "output_type": "stream",
                    "text": [
                        "Iteration 1/50\n",
                        "Iteration 2/50\n",
                        "Iteration 3/50\n",
                        "Iteration 4/50\n",
                        "Iteration 5/50\n",
                        "Iteration 6/50\n",
                        "Iteration 7/50\n",
                        "Iteration 8/50\n",
                        "Iteration 9/50\n",
                        "Iteration 10/50\n",
                        "Iteration 11/50\n",
                        "Iteration 12/50\n",
                        "Iteration 13/50\n",
                        "Iteration 14/50\n",
                        "Iteration 15/50\n",
                        "Iteration 16/50\n",
                        "Iteration 17/50\n",
                        "Iteration 18/50\n",
                        "Iteration 19/50\n",
                        "Iteration 20/50\n",
                        "Iteration 21/50\n",
                        "Iteration 22/50\n",
                        "Iteration 23/50\n",
                        "Iteration 24/50\n",
                        "Iteration 25/50\n",
                        "Iteration 26/50\n",
                        "Iteration 27/50\n",
                        "Iteration 28/50\n",
                        "Iteration 29/50\n",
                        "Iteration 30/50\n",
                        "Iteration 31/50\n",
                        "Iteration 32/50\n",
                        "Iteration 33/50\n",
                        "Iteration 34/50\n",
                        "Iteration 35/50\n",
                        "Iteration 36/50\n",
                        "Iteration 37/50\n",
                        "Iteration 38/50\n",
                        "Iteration 39/50\n",
                        "Iteration 40/50\n",
                        "Iteration 41/50\n",
                        "Iteration 42/50\n",
                        "Iteration 43/50\n",
                        "Iteration 44/50\n",
                        "Iteration 45/50\n",
                        "Iteration 46/50\n",
                        "Iteration 47/50\n",
                        "Iteration 48/50\n",
                        "Iteration 49/50\n",
                        "Iteration 50/50\n"
                    ]
                }
            ],
            "source": [
                "# Call the crow search algorithm\n",
                "best_solution = crow_search_algorithm(X_train, y_train)"
            ]
        },
        {
            "cell_type": "code",
            "execution_count": 13,
            "metadata": {},
            "outputs": [
                {
                    "name": "stdout",
                    "output_type": "stream",
                    "text": [
                        "Best solution: [ 0.36944354  0.41155158  0.75470761  0.352415   -0.9722137   0.16761389\n",
                        "  0.05485435  0.48887086  0.71799335 -0.10894728 -0.40152416 -0.91269988\n",
                        "  0.52146914  0.62835077 -0.58086433 -0.64373499  0.40755629  0.87712117\n",
                        "  0.54574711 -0.74930399  0.55780576  0.28983667  0.34892579 -0.90776447\n",
                        " -0.69027327  0.68612954 -0.78480384  0.45884059]\n"
                    ]
                }
            ],
            "source": [
                "print('Best solution: {}'.format(best_solution))"
            ]
        },
        {
            "cell_type": "code",
            "execution_count": 14,
            "metadata": {},
            "outputs": [
                {
                    "name": "stdout",
                    "output_type": "stream",
                    "text": [
                        "(19610, 28)\n",
                        "False\n"
                    ]
                }
            ],
            "source": [
                "print(X_test.shape)\n",
                "print(np.isnan(X_test).any())"
            ]
        },
        {
            "cell_type": "code",
            "execution_count": 15,
            "metadata": {},
            "outputs": [
                {
                    "data": {
                        "text/plain": [
                            "LogisticRegression(C=0.0001, fit_intercept=False, max_iter=1000)"
                        ]
                    },
                    "execution_count": 15,
                    "metadata": {},
                    "output_type": "execute_result"
                }
            ],
            "source": [
                "# Create a logistic regression model using the best solution\n",
                "# model = LogisticRegression(fit_intercept=False,solver='lbfgs')\n",
                "model = LogisticRegression(C=1e-4, solver='lbfgs', max_iter=1000,fit_intercept=False)\n",
                "model.coef_ = best_solution[:-1].reshape(1, -1)\n",
                "model.intercept_ = best_solution[-1]\n",
                "\n",
                "# Fit the model to the training data\n",
                "model.fit(X_train, y_train)\n",
                "\n",
                "# Make predictions on the test data\n",
                "# y_pred = model.predict(X_test)\n",
                "\n",
                "# Evaluate the performance of the model\n",
                "# accuracy = accuracy_score(y_test, y_pred)\n",
                "# precision = precision_score(y_test, y_pred)\n",
                "# recall = recall_score(y_test, y_pred)\n",
                "# f1 = f1_score(y_test, y_pred)"
            ]
        },
        {
            "cell_type": "code",
            "execution_count": 16,
            "metadata": {},
            "outputs": [],
            "source": [
                "y_pred = model.predict(X_test)"
            ]
        },
        {
            "cell_type": "code",
            "execution_count": 17,
            "metadata": {},
            "outputs": [
                {
                    "name": "stdout",
                    "output_type": "stream",
                    "text": [
                        "Accuracy: 0.6057113717491076\n"
                    ]
                }
            ],
            "source": [
                "print('Accuracy: {}'.format(accuracy_score(y_test, y_pred)))"
            ]
        },
        {
            "cell_type": "code",
            "execution_count": 18,
            "metadata": {},
            "outputs": [
                {
                    "name": "stdout",
                    "output_type": "stream",
                    "text": [
                        "Accuracy: 0.5895461499235084\n"
                    ]
                },
                {
                    "name": "stderr",
                    "output_type": "stream",
                    "text": [
                        "c:\\Users\\rathn\\anaconda3\\envs\\DataMining\\lib\\site-packages\\sklearn\\linear_model\\_logistic.py:765: ConvergenceWarning: lbfgs failed to converge (status=1):\n",
                        "STOP: TOTAL NO. of ITERATIONS REACHED LIMIT.\n",
                        "\n",
                        "Increase the number of iterations (max_iter) or scale the data as shown in:\n",
                        "    https://scikit-learn.org/stable/modules/preprocessing.html\n",
                        "Please also refer to the documentation for alternative solver options:\n",
                        "    https://scikit-learn.org/stable/modules/linear_model.html#logistic-regression\n",
                        "  extra_warning_msg=_LOGISTIC_SOLVER_CONVERGENCE_MSG)\n"
                    ]
                }
            ],
            "source": [
                "#logistic regression model\n",
                "# Create a logistic regression model\n",
                "model2 = LogisticRegression(solver='lbfgs',max_iter=100)\n",
                "model2.fit(X_train, y_train)\n",
                "y2_pred = model2.predict(X_test)\n",
                "print('Accuracy: {}'.format(accuracy_score(y_test, y2_pred)))"
            ]
        },
        {
            "cell_type": "code",
            "execution_count": null,
            "metadata": {},
            "outputs": [],
            "source": []
        }
    ],
    "metadata": {
        "kernelspec": {
            "display_name": "DataMining",
            "language": "python",
            "name": "python3"
        },
        "language_info": {
            "codemirror_mode": {
                "name": "ipython",
                "version": 3
            },
            "file_extension": ".py",
            "mimetype": "text/x-python",
            "name": "python",
            "nbconvert_exporter": "python",
            "pygments_lexer": "ipython3",
            "version": "3.6.13"
        },
        "orig_nbformat": 4
    },
    "nbformat": 4,
    "nbformat_minor": 2
}